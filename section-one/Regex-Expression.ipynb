{
 "cells": [
  {
   "cell_type": "markdown",
   "metadata": {},
   "source": [
    "## Regex"
   ]
  },
  {
   "cell_type": "markdown",
   "metadata": {},
   "source": [
    "### 建立自己的字符分类"
   ]
  },
  {
   "cell_type": "code",
   "execution_count": 18,
   "metadata": {},
   "outputs": [
    {
     "data": {
      "text/plain": [
       "['o', 'o', 'o', 'e', 'a', 'a', 'o', 'o', 'A', 'O', 'O']"
      ]
     },
     "execution_count": 18,
     "metadata": {},
     "output_type": "execute_result"
    }
   ],
   "source": [
    "# 这将匹配所有的元音字母,不论大小写.\n",
    "import re\n",
    "vowelRegex = re.compile(r'[aeiouAEIOU]')\n",
    "vowelRegex.findall('RoboCop eats baby food,BABY FOOD.')"
   ]
  },
  {
   "cell_type": "code",
   "execution_count": 20,
   "metadata": {},
   "outputs": [
    {
     "data": {
      "text/plain": [
       "['R',\n",
       " 'o',\n",
       " 'b',\n",
       " 'o',\n",
       " 'C',\n",
       " 'o',\n",
       " 'p',\n",
       " 'e',\n",
       " 'a',\n",
       " 't',\n",
       " 's',\n",
       " 'b',\n",
       " 'a',\n",
       " 'b',\n",
       " 'y',\n",
       " 'f',\n",
       " 'o',\n",
       " 'o',\n",
       " 'd',\n",
       " 'B',\n",
       " 'A',\n",
       " 'B',\n",
       " 'Y',\n",
       " 'F',\n",
       " 'O',\n",
       " 'O',\n",
       " 'D',\n",
       " '1',\n",
       " '2',\n",
       " '3',\n",
       " '4',\n",
       " '5']"
      ]
     },
     "execution_count": 20,
     "metadata": {},
     "output_type": "execute_result"
    }
   ],
   "source": [
    "# [a-zA-Z0-9] 将匹配所有小写字母,大写字母和数字\n",
    "import re\n",
    "vowelRegex = re.compile(r'[a-zA-Z0-9]')\n",
    "vowelRegex.findall('RoboCop eats baby food,BABY FOOD.12345')"
   ]
  },
  {
   "cell_type": "code",
   "execution_count": 22,
   "metadata": {},
   "outputs": [
    {
     "data": {
      "text/plain": [
       "['.', '1', '2', '3', '4', '5']"
      ]
     },
     "execution_count": 22,
     "metadata": {},
     "output_type": "execute_result"
    }
   ],
   "source": [
    "# 在方括号里面,普通的正则表达式不会被解释,所以我们需要前面加上到斜杠来进行转义. \n",
    "# 可能之前会 [0-4/.] 这样写,但是现在只需要 [0-5.] 这样写就足够了.\n",
    "import re\n",
    "vowelRegex = re.compile(r'[0-9.]')\n",
    "vowelRegex.findall('RoboCop eats baby food,BABY FOOD.12345')"
   ]
  },
  {
   "cell_type": "code",
   "execution_count": 24,
   "metadata": {},
   "outputs": [],
   "source": [
    "# 只要在字符分类的左方括号厚加上一个插入字符(^),就可以得到\"非字符类\",非字符类将匹配不在这个字符类中的所有字符,"
   ]
  },
  {
   "cell_type": "code",
   "execution_count": 27,
   "metadata": {},
   "outputs": [
    {
     "data": {
      "text/plain": [
       "['R',\n",
       " 'b',\n",
       " 'C',\n",
       " 'p',\n",
       " ' ',\n",
       " 't',\n",
       " 's',\n",
       " ' ',\n",
       " 'b',\n",
       " 'b',\n",
       " 'y',\n",
       " ' ',\n",
       " 'f',\n",
       " 'd',\n",
       " ',',\n",
       " 'B',\n",
       " 'B',\n",
       " 'Y',\n",
       " ' ',\n",
       " 'F',\n",
       " 'D',\n",
       " '.',\n",
       " '3',\n",
       " '4',\n",
       " '3',\n",
       " '3']"
      ]
     },
     "execution_count": 27,
     "metadata": {},
     "output_type": "execute_result"
    }
   ],
   "source": [
    "# 现在匹配的就是非元音字母和不是1,2 的数字\n",
    "import re\n",
    "vowelRegex = re.compile(r'[^aeiouAEIOU1-2]')\n",
    "vowelRegex.findall('RoboCop eats baby food,BABY FOOD.12134233')"
   ]
  },
  {
   "cell_type": "markdown",
   "metadata": {},
   "source": [
    "### 插入字符和美元字符"
   ]
  },
  {
   "cell_type": "code",
   "execution_count": 30,
   "metadata": {},
   "outputs": [
    {
     "data": {
      "text/plain": [
       "True"
      ]
     },
     "execution_count": 30,
     "metadata": {},
     "output_type": "execute_result"
    }
   ],
   "source": [
    "# ^ --- 表明匹配必须发生在查找文本开始处.\n",
    "# $ --- 在正则表达式的末尾加上美元符号,表明该字符串必须这个正则表达式模式结束\n",
    "# 可以同时使用 ^ 和 $,表明整个字符串必须匹配该模式.\n",
    "\n",
    "beginWithHello = re.compile(r'^Hello$')\n",
    "beginWithHello.search('Hello world') == None"
   ]
  },
  {
   "cell_type": "code",
   "execution_count": 33,
   "metadata": {},
   "outputs": [
    {
     "data": {
      "text/plain": [
       "False"
      ]
     },
     "execution_count": 33,
     "metadata": {},
     "output_type": "execute_result"
    }
   ],
   "source": [
    "endWithNuber = re.compile(r'\\d$')\n",
    "endWithNuber.search('Your Number is 42') == None"
   ]
  },
  {
   "cell_type": "code",
   "execution_count": 45,
   "metadata": {},
   "outputs": [
    {
     "data": {
      "text/plain": [
       "True"
      ]
     },
     "execution_count": 45,
     "metadata": {},
     "output_type": "execute_result"
    }
   ],
   "source": [
    "endWithNuber = re.compile(r'^\\d+$') # + 代表匹配1次或者多次,所以开头和结尾都必须是数字\n",
    "endWithNuber.search(r'1212xyz1') == None"
   ]
  },
  {
   "cell_type": "markdown",
   "metadata": {},
   "source": [
    "### 通配字符"
   ]
  },
  {
   "cell_type": "markdown",
   "metadata": {},
   "source": [
    "在正则表达式中,`.` 称为\"通配符\",它匹配除了换行之外的所有字符."
   ]
  },
  {
   "cell_type": "code",
   "execution_count": 51,
   "metadata": {},
   "outputs": [
    {
     "data": {
      "text/plain": [
       "['Cat', 'Hat', 'sat', 'lat', 'mat']"
      ]
     },
     "execution_count": 51,
     "metadata": {},
     "output_type": "execute_result"
    }
   ],
   "source": [
    "import re \n",
    "atRegex = re.compile(r'.at')\n",
    "mo = atRegex.findall('The Cat in the Hat sat on the flat mat.')\n",
    "mo"
   ]
  },
  {
   "cell_type": "markdown",
   "metadata": {},
   "source": [
    "## 管理复杂的正则表达式"
   ]
  },
  {
   "cell_type": "markdown",
   "metadata": {},
   "source": [
    "如果你要写很复杂的正则表达式,这个时候就需要注释来解释他是什么意思.否则不好维护."
   ]
  },
  {
   "cell_type": "code",
   "execution_count": 6,
   "metadata": {},
   "outputs": [
    {
     "data": {
      "text/plain": [
       "\"\\nimport re \\nphoneRegex = re.compile(r'((\\\\d{3})|(\\\\d{3}\\\\))?(\\\\s|-|\\\\.)?\\\\d{3}(\\\\s|-|\\\\.)\\\\d{4}(\\\\s*)(ext|x|ext.)\\\\s*\\\\d{2,5})?)')\\n\""
      ]
     },
     "execution_count": 6,
     "metadata": {},
     "output_type": "execute_result"
    }
   ],
   "source": [
    "\"\"\"\n",
    "import re \n",
    "phoneRegex = re.compile(r'((\\d{3})|(\\d{3}\\))?(\\s|-|\\.)?\\d{3}(\\s|-|\\.)\\d{4}(\\s*)(ext|x|ext.)\\s*\\d{2,5})?)')\n",
    "\"\"\"\n",
    "\n",
    "# 具体写的什么东西,我也很难提取出来,下面是比较正规的写法"
   ]
  },
  {
   "cell_type": "code",
   "execution_count": 10,
   "metadata": {},
   "outputs": [],
   "source": [
    "phoneRegex = re.compile(r'''(\n",
    "    (\\d{3}|\\(\\d{3}\\))? # area code  \n",
    "    (\\s|-|\\.)? # separator\n",
    "    \\d{3} # first 3 digst \n",
    "    (\\S|-|\\.) # separator\n",
    "    \\d{4} # last 4 digits\n",
    "    (\\S*(ext}x}ext.)\\S*\\d{2,5})? # extension\n",
    ")''',re.VERBOSE)"
   ]
  },
  {
   "cell_type": "markdown",
   "metadata": {},
   "source": [
    "这种写法的有点在于\n",
    "- 利用re.VERBOSE,忽略正则表达式字符串中的空白字符和注释,\n",
    "- 这个例子是使用三重引号来搞的,创建了1个多行字符串,这样就可以将正则表达式定义放在多行中.可读性强"
   ]
  },
  {
   "cell_type": "markdown",
   "metadata": {},
   "source": [
    "### 组合使用 re.IGNOREC ASE && re.DOTALL && re.VERBOSE"
   ]
  },
  {
   "cell_type": "markdown",
   "metadata": {},
   "source": [
    "- 可以通过管道字符 `|` 来将他们连接起来."
   ]
  },
  {
   "cell_type": "markdown",
   "metadata": {},
   "source": [
    "`someRegexValue = re.compile('foo',re.IGNORECASE | re.DOTALL | re.VERBOSE)`\n"
   ]
  },
  {
   "cell_type": "markdown",
   "metadata": {},
   "source": [
    "### 电话号码和E-mail地址提取程序"
   ]
  },
  {
   "cell_type": "markdown",
   "metadata": {},
   "source": [
    "情境描述:\n",
    "- 在一篇长的网页和文章中,找出所有电话号码和邮件地址."
   ]
  },
  {
   "cell_type": "code",
   "execution_count": 20,
   "metadata": {},
   "outputs": [
    {
     "data": {
      "text/plain": [
       "\"\\n#! python3\\n# phoneAndEmail.py - Finds phone numbers and email addresses on the clipboard(剪切板)\\n# 美国号码: 415-838-3119\\nimport pyperclip,re\\nre.compile(r'''(\\n    (\\\\d{3}|\\\\(\\\\d{3}\\\\))? # area code\\n    (\\\\s|-|\\\\.)? # separator\\n    (\\\\d{3}) # first 3 digst\\n    (\\\\s|-|\\\\.) #separator\\n    (\\\\d{4}) # last 4 digst\\n    (\\\\s*(ext|x|ext.)\\\\s*(\\\\d{2,5}))? # extension\\n)''',re.VERBOSE)\\n\\n# Create email regex \\nemailRegex = re.compile(r'''(\\n    [a-zA-Z0-9._%+-]+ # username: email 地址的用户名部分是1个或者多个字符\\n    @ # @symbol\\n    [a-zA-Z0-9._%+-]+ #domain name\\n    (\\\\.[a-zA-Z]{2-4}) # dot-something\\n)''',re.VERBOSE)\\n\\n# Find matches in clipboard text \\ntext = str(pyperclip.paste())\\nmatches = []\\nfor groups in phoneRegex.findall(text):\\n    phoneNum = '-'.join([groups[1],groups[3],groups[5]])\\n    if groups[8] != '':\\n        phoneNums += ' x'+ groups[8]\\n    matches.append(phoneNum)\\nfor groups in emailRegex.findall(text):\\n    matches.appends(group[0])\\n    \\n\\n# Copy results to the clipboard\\nif len(matches) > 0:\\n    pyperclip.copy('\\n'.join(matches))\\n    print('Copied to clipboard:')\\n    print('\\n'.join(matches))\\nelse:\\n    print('No phone numbers or email addresses found.')\\n\""
      ]
     },
     "execution_count": 20,
     "metadata": {},
     "output_type": "execute_result"
    }
   ],
   "source": [
    "\"\"\"\n",
    "#! python3\n",
    "# phoneAndEmail.py - Finds phone numbers and email addresses on the clipboard(剪切板)\n",
    "# 美国号码: 415-838-3119\n",
    "import pyperclip,re\n",
    "re.compile(r'''(\n",
    "    (\\d{3}|\\(\\d{3}\\))? # area code\n",
    "    (\\s|-|\\.)? # separator\n",
    "    (\\d{3}) # first 3 digst\n",
    "    (\\s|-|\\.) #separator\n",
    "    (\\d{4}) # last 4 digst\n",
    "    (\\s*(ext|x|ext.)\\s*(\\d{2,5}))? # extension\n",
    ")''',re.VERBOSE)\n",
    "\n",
    "# Create email regex \n",
    "emailRegex = re.compile(r'''(\n",
    "    [a-zA-Z0-9._%+-]+ # username: email 地址的用户名部分是1个或者多个字符\n",
    "    @ # @symbol\n",
    "    [a-zA-Z0-9._%+-]+ #domain name\n",
    "    (\\.[a-zA-Z]{2-4}) # dot-something\n",
    ")''',re.VERBOSE)\n",
    "\n",
    "# Find matches in clipboard text \n",
    "text = str(pyperclip.paste())\n",
    "matches = []\n",
    "for groups in phoneRegex.findall(text):\n",
    "    phoneNum = '-'.join([groups[1],groups[3],groups[5]])\n",
    "    if groups[8] != '':\n",
    "        phoneNums += ' x'+ groups[8]\n",
    "    matches.append(phoneNum)\n",
    "for groups in emailRegex.findall(text):\n",
    "    matches.appends(group[0])\n",
    "    \n",
    "\n",
    "# Copy results to the clipboard\n",
    "if len(matches) > 0:\n",
    "    pyperclip.copy('\\n'.join(matches))\n",
    "    print('Copied to clipboard:')\n",
    "    print('\\n'.join(matches))\n",
    "else:\n",
    "    print('No phone numbers or email addresses found.')\n",
    "\"\"\""
   ]
  },
  {
   "cell_type": "code",
   "execution_count": null,
   "metadata": {},
   "outputs": [],
   "source": []
  }
 ],
 "metadata": {
  "kernelspec": {
   "display_name": "Python 3",
   "language": "python",
   "name": "python3"
  },
  "language_info": {
   "codemirror_mode": {
    "name": "ipython",
    "version": 3
   },
   "file_extension": ".py",
   "mimetype": "text/x-python",
   "name": "python",
   "nbconvert_exporter": "python",
   "pygments_lexer": "ipython3",
   "version": "3.7.1"
  }
 },
 "nbformat": 4,
 "nbformat_minor": 2
}
