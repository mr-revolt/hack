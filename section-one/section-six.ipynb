{
 "cells": [
  {
   "cell_type": "markdown",
   "metadata": {},
   "source": [
    "## setDefault()方法"
   ]
  },
  {
   "cell_type": "code",
   "execution_count": 1,
   "metadata": {},
   "outputs": [
    {
     "data": {
      "text/plain": [
       "{'name': 'Pooka', 'age': 4, 'color': 'black'}"
      ]
     },
     "execution_count": 1,
     "metadata": {},
     "output_type": "execute_result"
    }
   ],
   "source": [
    "# 给字典中的某一个键设置一个默认值\n",
    "spam = {'name':'Pooka','age':4}\n",
    "if 'color' not in spam:\n",
    "    spam['color'] = 'black'\n",
    "spam"
   ]
  },
  {
   "cell_type": "markdown",
   "metadata": {},
   "source": [
    "setDefault()\n",
    "- 第一个参数设置 key\n",
    "- 第二个参数设置 key 对应的 value 值\n",
    "    "
   ]
  },
  {
   "cell_type": "code",
   "execution_count": 2,
   "metadata": {},
   "outputs": [
    {
     "name": "stdout",
     "output_type": "stream",
     "text": [
      "{'I': 1, 't': 6, ' ': 12, 'w': 2, 'a': 4, 's': 3, 'b': 1, 'r': 5, 'i': 6, 'g': 2, 'h': 3, 'c': 3, 'o': 3, 'l': 3, 'd': 3, 'y': 1, 'n': 4, 'A': 1, 'p': 1, '.': 1, 'e': 5, 'k': 2}\n"
     ]
    }
   ],
   "source": [
    "# 计算每一个字符出现的次数\n",
    "message = 'It was a bright cold day in April.and the colocks were striking thriteen'\n",
    "count = {}\n",
    "for character in message:\n",
    "    count.setdefault(character,0)\n",
    "    count[character] = count[character] + 1\n",
    "print(count)"
   ]
  },
  {
   "cell_type": "markdown",
   "metadata": {},
   "source": [
    "### 格式化打印"
   ]
  },
  {
   "cell_type": "code",
   "execution_count": 3,
   "metadata": {},
   "outputs": [
    {
     "name": "stdout",
     "output_type": "stream",
     "text": [
      "{' ': 12,\n",
      " ',': 1,\n",
      " '.': 1,\n",
      " 'A': 1,\n",
      " 'I': 1,\n",
      " 'a': 4,\n",
      " 'b': 1,\n",
      " 'c': 3,\n",
      " 'd': 3,\n",
      " 'e': 5,\n",
      " 'g': 2,\n",
      " 'h': 3,\n",
      " 'i': 6,\n",
      " 'k': 2,\n",
      " 'l': 3,\n",
      " 'n': 5,\n",
      " 'o': 2,\n",
      " 'p': 1,\n",
      " 'r': 5,\n",
      " 's': 3,\n",
      " 't': 6,\n",
      " 'w': 2,\n",
      " 'y': 1}\n"
     ]
    },
    {
     "data": {
      "text/plain": [
       "\"{' ': 12,\\n ',': 1,\\n '.': 1,\\n 'A': 1,\\n 'I': 1,\\n 'a': 4,\\n 'b': 1,\\n 'c': 3,\\n 'd': 3,\\n 'e': 5,\\n 'g': 2,\\n 'h': 3,\\n 'i': 6,\\n 'k': 2,\\n 'l': 3,\\n 'n': 5,\\n 'o': 2,\\n 'p': 1,\\n 'r': 5,\\n 's': 3,\\n 't': 6,\\n 'w': 2,\\n 'y': 1}\""
      ]
     },
     "execution_count": 3,
     "metadata": {},
     "output_type": "execute_result"
    }
   ],
   "source": [
    "# 标准的格式化打印数据\n",
    "import pprint\n",
    "message = 'It was a bright cold day in April,and the clocks were strinking thirteen.'\n",
    "count ={}\n",
    "for character in message:\n",
    "    count.setdefault(character,0)\n",
    "    count[character] = count[character] + 1\n",
    "pprint.pprint(count)\n",
    "pprint.pformat(count)"
   ]
  },
  {
   "cell_type": "markdown",
   "metadata": {},
   "source": [
    "## 使用数据结构对真实世界建模"
   ]
  },
  {
   "cell_type": "markdown",
   "metadata": {},
   "source": [
    "对于国际象棋: 2.Nf3 Nc6 就是表明在棋局的第2回合,白方将马移动到f3,黑方将马移动到c6"
   ]
  },
  {
   "cell_type": "markdown",
   "metadata": {},
   "source": [
    "基于这个存储的标准,我们来做一些玩法."
   ]
  },
  {
   "cell_type": "markdown",
   "metadata": {},
   "source": [
    "### 井字棋盘"
   ]
  },
  {
   "cell_type": "markdown",
   "metadata": {},
   "source": [
    "![image.png](https://upload-images.jianshu.io/upload_images/7505161-34130338862b415d.png?imageMogr2/auto-orient/strip%7CimageView2/2/w/1240)\n"
   ]
  },
  {
   "cell_type": "code",
   "execution_count": 4,
   "metadata": {},
   "outputs": [],
   "source": [
    "# 首先可以观察到的就是,这个井字棋需要存储9个字符串.\n",
    "# 我们已经起好了key的名字.所以初始化这个棋盘.\n",
    "theBoard={\n",
    "    'top-L':'','top-M':'','top-r':'',\n",
    "    'mid-L':'','mid-M':'','mid-r':'',\n",
    "    'low-L':'','low-M':'','low-r':'',\n",
    "}\n",
    "# 这个时候就是一个空的棋盘"
   ]
  },
  {
   "cell_type": "code",
   "execution_count": 5,
   "metadata": {},
   "outputs": [
    {
     "name": "stdout",
     "output_type": "stream",
     "text": [
      "||\n",
      "-+-+-\n",
      "|X|\n",
      "-+-+-\n",
      "||\n"
     ]
    }
   ],
   "source": [
    "# 如果玩家X选择了中间的空格,就可以用下面的这个字典来表示当前的棋盘\n",
    "theBoard={\n",
    "    'top-L':'','top-M':'','top-R':'',\n",
    "    'mid-L':'','mid-M':'X','mid-R':'',\n",
    "    'low-L':'','low-M':'','low-R':'',\n",
    "}\n",
    "def printBoard(board):\n",
    "    print(board['top-L']+ '|' +board['top-M']+ '|' +board['top-R'])\n",
    "    print('-+-+-')\n",
    "    print(board['mid-L']+ '|' +board['mid-M']+ '|' +board['mid-R'])\n",
    "    print('-+-+-')\n",
    "    print(board['low-L']+ '|' +board['low-M']+ '|' +board['low-R'])\n",
    "  \n",
    "printBoard(theBoard)"
   ]
  },
  {
   "cell_type": "code",
   "execution_count": 6,
   "metadata": {},
   "outputs": [
    {
     "name": "stdout",
     "output_type": "stream",
     "text": [
      "O|O|O\n",
      "-+-+-\n",
      "X|X| \n",
      "-+-+-\n",
      " | |X\n"
     ]
    }
   ],
   "source": [
    "# 现在你创建了一个数据结构来表示#字棋盘,编写了printBoard()的代码来解释该数据结构\n",
    "# 这样就是对这个#字棋盘进行建模\n",
    "theBoard={\n",
    "    'top-L':'O','top-M':'O','top-R':'O',\n",
    "    'mid-L':'X','mid-M':'X','mid-R':' ',\n",
    "    'low-L':' ','low-M':' ','low-R':'X',\n",
    "}\n",
    "printBoard(theBoard)"
   ]
  },
  {
   "cell_type": "code",
   "execution_count": null,
   "metadata": {},
   "outputs": [],
   "source": [
    "# 现在我们允许玩家来添加代码,允许玩家输入他们的想法\n",
    "theBoard={\n",
    "    'top-L':' ','top-M':' ','top-R':' ',\n",
    "    'mid-L':' ','mid-M':' ','mid-R':' ',\n",
    "    'low-L':' ','low-M':' ','low-R':' ',\n",
    "}\n",
    "def printBoard(board):\n",
    "    print(board['top-L']+ '|' +board['top-M']+ '|' +board['top-R'])\n",
    "    print('-+-+-')\n",
    "    print(board['mid-L']+ '|' +board['mid-M']+ '|' +board['mid-R'])\n",
    "    print('-+-+-')\n",
    "    print(board['low-L']+ '|' +board['low-M']+ '|' +board['low-R'])\n",
    "    \n",
    "turn ='X'\n",
    "size = len(theBoard)\n",
    "for i in range(size):\n",
    "    if turn == \"X\":\n",
    "        turn = \"O\"\n",
    "    else:\n",
    "        turn = \"X\"\n",
    "    printBoard(theBoard)\n",
    "    move = input()\n",
    "    theBoard[move] = turn"
   ]
  },
  {
   "cell_type": "markdown",
   "metadata": {},
   "source": [
    "### 嵌套的字典和列表"
   ]
  },
  {
   "cell_type": "markdown",
   "metadata": {},
   "source": [
    "对于复杂的事物建模的时候,你会发现字典和列表中需要包含其他字典和列表."
   ]
  },
  {
   "cell_type": "code",
   "execution_count": 32,
   "metadata": {},
   "outputs": [
    {
     "name": "stdout",
     "output_type": "stream",
     "text": [
      "5\n",
      "2\n",
      "0\n"
     ]
    }
   ],
   "source": [
    "allGuests = {\n",
    "    'Alice':{'apples':5,'pretzels':12},\n",
    "    'Bob':{'ham sandwiches':3,'apples':2},\n",
    "    'Carol':{'cups':3,'apple pies':1}\n",
    "}\n",
    "for k,v in allGuests.items():\n",
    "    print(v.get('apples',0)) # 给其设置一个默认值是 0"
   ]
  },
  {
   "cell_type": "code",
   "execution_count": 36,
   "metadata": {},
   "outputs": [
    {
     "name": "stdout",
     "output_type": "stream",
     "text": [
      "Number of things being brought: \n",
      "- Apples 7\n"
     ]
    }
   ],
   "source": [
    "allGuests = {\n",
    "    'Alice':{'apples':5,'pretzels':12},\n",
    "    'Bob':{'ham sandwiches':3,'apples':2},\n",
    "    'Carol':{'cups':3,'apple pies':1}\n",
    "}\n",
    "def totalBrought(guests,item):\n",
    "    numBrought = 0\n",
    "    for k,v in guests.items():\n",
    "        numBrought = numBrought + v.get(item,0) # 典型的计数规则\n",
    "    return numBrought\n",
    "print('Number of things being brought: ')\n",
    "print('- Apples '+ str(totalBrought(allGuests,'apples')))"
   ]
  },
  {
   "cell_type": "code",
   "execution_count": null,
   "metadata": {},
   "outputs": [],
   "source": []
  }
 ],
 "metadata": {
  "kernelspec": {
   "display_name": "Python 3",
   "language": "python",
   "name": "python3"
  },
  "language_info": {
   "codemirror_mode": {
    "name": "ipython",
    "version": 3
   },
   "file_extension": ".py",
   "mimetype": "text/x-python",
   "name": "python",
   "nbconvert_exporter": "python",
   "pygments_lexer": "ipython3",
   "version": "3.7.1"
  }
 },
 "nbformat": 4,
 "nbformat_minor": 2
}
