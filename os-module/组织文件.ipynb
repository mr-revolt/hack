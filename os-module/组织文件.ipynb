{
 "cells": [
  {
   "cell_type": "code",
   "execution_count": 27,
   "metadata": {},
   "outputs": [],
   "source": [
    "# shutil模块,算是python中的shell工具\n"
   ]
  },
  {
   "cell_type": "markdown",
   "metadata": {},
   "source": [
    "## shutil模块复制文件夹和文件"
   ]
  },
  {
   "cell_type": "code",
   "execution_count": 28,
   "metadata": {},
   "outputs": [
    {
     "data": {
      "text/plain": [
       "'/home/lxll/python/spam.txt'"
      ]
     },
     "execution_count": 28,
     "metadata": {},
     "output_type": "execute_result"
    }
   ],
   "source": [
    "import shutil,os\n",
    "# os.getcwd()\n",
    "path = os.getcwd()\n",
    "# open(path+\"/spam.txt\",\"w+\")\n",
    "\n",
    "# 指定后面的路径作为目的地,原来的文件名就被用作新复制的文件名.\n",
    "shutil.copy('spam.txt','/home/lxll/python') \n",
    "# '/home/lxll/python/spam.txt'\n",
    "\n",
    "# 将spam.txt 复制到后面的文件夹内,但是改名为a.txt\n",
    "#shutil.copy('spam.txt','/home/lxll/python/os-module/5/a.txt')\n",
    "# '/home/lxll/python/os-module/5/a.txt'"
   ]
  },
  {
   "cell_type": "markdown",
   "metadata": {},
   "source": [
    "## 利用copytree复制整个文件夹"
   ]
  },
  {
   "cell_type": "code",
   "execution_count": 42,
   "metadata": {},
   "outputs": [
    {
     "name": "stdout",
     "output_type": "stream",
     "text": [
      "the folder is existed!\n"
     ]
    }
   ],
   "source": [
    "import os,shutil\n",
    "os.chdir(\"/home/lxll/python/os-module\")\n",
    "path = os.getcwd()\n",
    "# 将前面的文件复制到后面的文件夹里面去\n",
    "if os.path.exists(\"6\"):\n",
    "    print(\"the folder is existed!\")\n",
    "else:\n",
    "    shutil.copytree(path + \"/5\",\"6\")"
   ]
  },
  {
   "cell_type": "markdown",
   "metadata": {},
   "source": [
    "## 文件和文件夹的移动与改名"
   ]
  },
  {
   "cell_type": "code",
   "execution_count": 43,
   "metadata": {},
   "outputs": [],
   "source": [
    "# 调用shutil.move(source,destination),将路径 source处的文件夹移动到路径 destination,并返回新位置的绝对路径的字符串."
   ]
  },
  {
   "cell_type": "code",
   "execution_count": 53,
   "metadata": {},
   "outputs": [
    {
     "name": "stdout",
     "output_type": "stream",
     "text": [
      "the file is existed!\n"
     ]
    }
   ],
   "source": [
    "import shutil\n",
    "# 将前面的文件移动到 7这个文件夹当中,之前我已经指定了所在的文件路径\n",
    "\n",
    "if os.path.isfile(\"7/spam.txt\"):\n",
    "    print(\"the file is existed!\")\n",
    "else:\n",
    "    shutil.move(\"spam.txt\",\"7\")\n"
   ]
  },
  {
   "cell_type": "code",
   "execution_count": 60,
   "metadata": {},
   "outputs": [
    {
     "name": "stdout",
     "output_type": "stream",
     "text": [
      "the file is existed!\n"
     ]
    }
   ],
   "source": [
    "if os.path.exists(\"8\"):\n",
    "    if os.path.isfile(\"8/bat.txt\"):\n",
    "        print(\"the file is existed!\")\n",
    "    else:\n",
    "        # 将 7 文件夹里面的 spam.txt 移动到 8文件夹里面并重命名为 bat.txt\n",
    "        shutil.move(\"7/spam.txt\",\"8/bat.txt\")\n",
    "else:\n",
    "    os.mkdir(\"8\")"
   ]
  },
  {
   "cell_type": "markdown",
   "metadata": {},
   "source": [
    "## 永久删除文件和文件夹"
   ]
  },
  {
   "cell_type": "code",
   "execution_count": 66,
   "metadata": {},
   "outputs": [
    {
     "name": "stdout",
     "output_type": "stream",
     "text": [
      ".ipynb_checkpoints\n",
      "5\n",
      "6\n",
      "7\n",
      "8\n",
      "__pycache__\n",
      "folder.ipynb\n",
      "myCats.py\n",
      "myData.dat\n",
      "myData.dir\n",
      "二进制文件的保存.ipynb\n",
      "组织文件.ipynb\n"
     ]
    },
    {
     "data": {
      "text/plain": [
       "'\\n- unlink --- 删除path处的文件\\n- rmdir  --- 删除path处的文件夹\\n- rmtree --- 永久删除path处的文件夹和文件\\n'"
      ]
     },
     "execution_count": 66,
     "metadata": {},
     "output_type": "execute_result"
    }
   ],
   "source": [
    "import os \n",
    "for filename in os.listdir():\n",
    "    print(filename)\n",
    "    if filename.endswith(\".bak\"):\n",
    "#         os.unlink(filename)\n",
    "          print(filename)\n",
    "    \n",
    "\"\"\"\n",
    "- unlink --- 删除path处的文件\n",
    "- rmdir  --- 删除path处的文件夹\n",
    "- rmtree --- 永久删除path处的文件夹和文件\n",
    "\"\"\""
   ]
  },
  {
   "cell_type": "markdown",
   "metadata": {},
   "source": [
    "## 使用 send2trash模块安全的删除"
   ]
  },
  {
   "cell_type": "code",
   "execution_count": 72,
   "metadata": {},
   "outputs": [],
   "source": [
    "import send2trash as s2t\n",
    "baconFile = open(\"a.txt\",\"w+\")\n",
    "baconFile.write(\"Bacon os not a vegetable.\")\n",
    "baconFile.close()\n",
    "\n",
    "# s2t.send2trash(\"a.txt\")\n",
    "# 可以去垃圾箱去寻找已经删除的文件夹"
   ]
  },
  {
   "cell_type": "markdown",
   "metadata": {},
   "source": [
    "## 遍历目录树"
   ]
  },
  {
   "cell_type": "code",
   "execution_count": 130,
   "metadata": {},
   "outputs": [
    {
     "name": "stdout",
     "output_type": "stream",
     "text": [
      "The current folder is/home/lxll/python\n",
      "SYBFOLDER OF /home/lxll/python: .ipynb_checkpoints\n",
      "SYBFOLDER OF /home/lxll/python: os-module\n",
      "SYBFOLDER OF /home/lxll/python: section-one\n",
      "SYBFOLDER OF /home/lxll/python: selenium\n",
      "FILE INSIDE /home/lxll/python:spam.txt\n",
      "The current folder is/home/lxll/python/.ipynb_checkpoints\n",
      "The current folder is/home/lxll/python/os-module\n",
      "SYBFOLDER OF /home/lxll/python/os-module: .ipynb_checkpoints\n",
      "SYBFOLDER OF /home/lxll/python/os-module: 5\n",
      "SYBFOLDER OF /home/lxll/python/os-module: 6\n",
      "SYBFOLDER OF /home/lxll/python/os-module: 7\n",
      "SYBFOLDER OF /home/lxll/python/os-module: 8\n",
      "SYBFOLDER OF /home/lxll/python/os-module: __pycache__\n",
      "FILE INSIDE /home/lxll/python/os-module:a.txt\n",
      "FILE INSIDE /home/lxll/python/os-module:folder.ipynb\n",
      "FILE INSIDE /home/lxll/python/os-module:myCats.py\n",
      "FILE INSIDE /home/lxll/python/os-module:myData.dat\n",
      "FILE INSIDE /home/lxll/python/os-module:myData.dir\n",
      "FILE INSIDE /home/lxll/python/os-module:二进制文件的保存.ipynb\n",
      "FILE INSIDE /home/lxll/python/os-module:组织文件.ipynb\n",
      "The current folder is/home/lxll/python/os-module/.ipynb_checkpoints\n",
      "FILE INSIDE /home/lxll/python/os-module/.ipynb_checkpoints:a-checkpoint.txt\n",
      "FILE INSIDE /home/lxll/python/os-module/.ipynb_checkpoints:folder-checkpoint.ipynb\n",
      "FILE INSIDE /home/lxll/python/os-module/.ipynb_checkpoints:myCats-checkpoint.py\n",
      "FILE INSIDE /home/lxll/python/os-module/.ipynb_checkpoints:myData-checkpoint.bak\n",
      "FILE INSIDE /home/lxll/python/os-module/.ipynb_checkpoints:spam-checkpoint.txt\n",
      "FILE INSIDE /home/lxll/python/os-module/.ipynb_checkpoints:二进制文件的保存-checkpoint.ipynb\n",
      "FILE INSIDE /home/lxll/python/os-module/.ipynb_checkpoints:组织文件-checkpoint.ipynb\n",
      "The current folder is/home/lxll/python/os-module/5\n",
      "SYBFOLDER OF /home/lxll/python/os-module/5: .ipynb_checkpoints\n",
      "FILE INSIDE /home/lxll/python/os-module/5:a.ipynb\n",
      "FILE INSIDE /home/lxll/python/os-module/5:a.txt\n",
      "The current folder is/home/lxll/python/os-module/5/.ipynb_checkpoints\n",
      "FILE INSIDE /home/lxll/python/os-module/5/.ipynb_checkpoints:a-checkpoint.ipynb\n",
      "FILE INSIDE /home/lxll/python/os-module/5/.ipynb_checkpoints:a-checkpoint.txt\n",
      "The current folder is/home/lxll/python/os-module/6\n",
      "SYBFOLDER OF /home/lxll/python/os-module/6: .ipynb_checkpoints\n",
      "FILE INSIDE /home/lxll/python/os-module/6:a.ipynb\n",
      "FILE INSIDE /home/lxll/python/os-module/6:a.txt\n",
      "The current folder is/home/lxll/python/os-module/6/.ipynb_checkpoints\n",
      "FILE INSIDE /home/lxll/python/os-module/6/.ipynb_checkpoints:a-checkpoint.ipynb\n",
      "FILE INSIDE /home/lxll/python/os-module/6/.ipynb_checkpoints:a-checkpoint.txt\n",
      "The current folder is/home/lxll/python/os-module/7\n",
      "SYBFOLDER OF /home/lxll/python/os-module/7: .ipynb_checkpoints\n",
      "The current folder is/home/lxll/python/os-module/7/.ipynb_checkpoints\n",
      "FILE INSIDE /home/lxll/python/os-module/7/.ipynb_checkpoints:spam-checkpoint.txt\n",
      "The current folder is/home/lxll/python/os-module/8\n",
      "SYBFOLDER OF /home/lxll/python/os-module/8: .ipynb_checkpoints\n",
      "FILE INSIDE /home/lxll/python/os-module/8:bat.txt\n",
      "The current folder is/home/lxll/python/os-module/8/.ipynb_checkpoints\n",
      "FILE INSIDE /home/lxll/python/os-module/8/.ipynb_checkpoints:bat-checkpoint.txt\n",
      "The current folder is/home/lxll/python/os-module/__pycache__\n",
      "FILE INSIDE /home/lxll/python/os-module/__pycache__:myCats.cpython-37.pyc\n",
      "The current folder is/home/lxll/python/section-one\n",
      "SYBFOLDER OF /home/lxll/python/section-one: .ipynb_checkpoints\n",
      "FILE INSIDE /home/lxll/python/section-one:M-sys.ipynb\n",
      "FILE INSIDE /home/lxll/python/section-one:Regex-Expression.ipynb\n",
      "FILE INSIDE /home/lxll/python/section-one:Untitled.ipynb\n",
      "FILE INSIDE /home/lxll/python/section-one:section-five.ipynb\n",
      "FILE INSIDE /home/lxll/python/section-one:section-four.ipynb\n",
      "FILE INSIDE /home/lxll/python/section-one:section-one.ipynb\n",
      "FILE INSIDE /home/lxll/python/section-one:section-seven.ipynb\n",
      "FILE INSIDE /home/lxll/python/section-one:section-six.ipynb\n",
      "FILE INSIDE /home/lxll/python/section-one:target.ipynb\n",
      "The current folder is/home/lxll/python/section-one/.ipynb_checkpoints\n",
      "FILE INSIDE /home/lxll/python/section-one/.ipynb_checkpoints:M-sys-checkpoint.ipynb\n",
      "FILE INSIDE /home/lxll/python/section-one/.ipynb_checkpoints:Regex-Expression-checkpoint.ipynb\n",
      "FILE INSIDE /home/lxll/python/section-one/.ipynb_checkpoints:Untitled-checkpoint.ipynb\n",
      "FILE INSIDE /home/lxll/python/section-one/.ipynb_checkpoints:section-five-checkpoint.ipynb\n",
      "FILE INSIDE /home/lxll/python/section-one/.ipynb_checkpoints:section-four-checkpoint.ipynb\n",
      "FILE INSIDE /home/lxll/python/section-one/.ipynb_checkpoints:section-one-checkpoint.ipynb\n",
      "FILE INSIDE /home/lxll/python/section-one/.ipynb_checkpoints:section-seven-checkpoint.ipynb\n",
      "FILE INSIDE /home/lxll/python/section-one/.ipynb_checkpoints:section-six-checkpoint.ipynb\n",
      "FILE INSIDE /home/lxll/python/section-one/.ipynb_checkpoints:target-checkpoint.ipynb\n",
      "The current folder is/home/lxll/python/selenium\n",
      "SYBFOLDER OF /home/lxll/python/selenium: .ipynb_checkpoints\n",
      "FILE INSIDE /home/lxll/python/selenium:stat_up_use_selenium,.ipynb\n",
      "FILE INSIDE /home/lxll/python/selenium:xpath.ipynb\n",
      "The current folder is/home/lxll/python/selenium/.ipynb_checkpoints\n",
      "FILE INSIDE /home/lxll/python/selenium/.ipynb_checkpoints:stat_up_use_selenium,-checkpoint.ipynb\n",
      "FILE INSIDE /home/lxll/python/selenium/.ipynb_checkpoints:xpath-checkpoint.ipynb\n"
     ]
    },
    {
     "data": {
      "text/plain": [
       "'\\n- 当前文件的文件夹名称\\n- 当前文件夹下面的文件夹名称\\n- 当前文件夹下所有的文件的名称\\n'"
      ]
     },
     "execution_count": 130,
     "metadata": {},
     "output_type": "execute_result"
    }
   ],
   "source": [
    "# 遍历此文件夹下所有的文件,精确的对每个文件进行修改\n",
    "import os\n",
    "path = os.getcwd()\n",
    "\n",
    "for folderName,subfolders,filenames in os.walk(path):\n",
    "    print(\"The current folder is\"+ folderName)\n",
    "    for subfolder in subfolders:\n",
    "        print(\"SYBFOLDER OF \" + folderName + ': '+ subfolder)\n",
    "    for filename in filenames:\n",
    "        print('FILE INSIDE ' + folderName +\":\" + filename)\n",
    "        \n",
    "\"\"\"\n",
    "- 当前文件的文件夹名称\n",
    "- 当前文件夹下面的文件夹名称\n",
    "- 当前文件夹下所有的文件的名称\n",
    "\"\"\""
   ]
  },
  {
   "cell_type": "markdown",
   "metadata": {},
   "source": [
    "## 用zipfile模块压缩文件"
   ]
  },
  {
   "cell_type": "code",
   "execution_count": 158,
   "metadata": {},
   "outputs": [
    {
     "name": "stdout",
     "output_type": "stream",
     "text": [
      "['a.txt', 'vi_tutorial.png']\n"
     ]
    },
    {
     "data": {
      "text/plain": [
       "'Compressed file is 1.04x smaller!'"
      ]
     },
     "execution_count": 158,
     "metadata": {},
     "output_type": "execute_result"
    }
   ],
   "source": [
    "import zipfile,os\n",
    "os.chdir('/mnt/c/Users/Mr.Revolt/Desktop/target')\n",
    "demozip = zipfile.ZipFile(\"zipfile/demo.zip\")\n",
    "# 列出当前压缩文件的所有内容\n",
    "all_file= demozip.namelist()\n",
    "print(all_file)\n",
    "spamInfo = demozip.getinfo('vi_tutorial.png')\n",
    "spamInfo.file_size # 原来文件的大小\n",
    "spamInfo.compress_size # 压缩之后文件的大小\n",
    "\n",
    "# 查看压缩效率\n",
    "\"Compressed file is %sx smaller!\" % (round(spamInfo.file_size / spamInfo.compress_size,2))"
   ]
  },
  {
   "cell_type": "markdown",
   "metadata": {},
   "source": [
    "## 从zip文件中解压缩"
   ]
  },
  {
   "cell_type": "code",
   "execution_count": 168,
   "metadata": {},
   "outputs": [],
   "source": [
    "import zipfile,os\n",
    "path = os.chdir('/mnt/c/Users/Mr.Revolt/Desktop/target')\n",
    "demozip = zipfile.ZipFile(\"zipfile/demo.zip\")\n",
    "\n",
    "# 解除密码\n",
    "demozip.setpassword(b\"12342234\")\n",
    "\n",
    "# 解压到当前文件夹\n",
    "demozip.extractall(\"zipfile\")\n",
    "demozip.close()"
   ]
  },
  {
   "cell_type": "code",
   "execution_count": 170,
   "metadata": {},
   "outputs": [],
   "source": [
    "import zipfile,os\n",
    "path = os.chdir('/mnt/c/Users/Mr.Revolt/Desktop/target')\n",
    "demozip = zipfile.ZipFile(\"zipfile/demo.zip\")\n",
    "\n",
    "demozip.setpassword(b\"12342234\")\n",
    "\n",
    "# 将特定文件抽取到特定的文件夹\n",
    "demozip.extract(\"a.txt\",\"/mnt/c/Users/Mr.Revolt/Desktop/target\")\n",
    "demozip.close()"
   ]
  },
  {
   "cell_type": "markdown",
   "metadata": {},
   "source": [
    "## 创建和添加到ZIP文件"
   ]
  },
  {
   "cell_type": "code",
   "execution_count": 242,
   "metadata": {},
   "outputs": [
    {
     "name": "stdout",
     "output_type": "stream",
     "text": [
      "/mnt/c/Users/Mr.Revolt/Desktop/target\n"
     ]
    }
   ],
   "source": [
    "# 如果创建自己的压缩ZIP文件，必须以“写模式”打开ZipFile对象。\n",
    "import zipfile,os,pyminizip\n",
    "path = os.chdir('/mnt/c/Users/Mr.Revolt/Desktop/target')\n",
    "compression_level = 5 # 1-9\n",
    "\n",
    "fileObj = open('spam.txt','w+')\n",
    "fileObj.write(\"hello world\\n你个沙雕\")\n",
    "fileObj.close()\n",
    "\n",
    "# 对当前的文件进行压缩\n",
    "newZip = zipfile.ZipFile(\"new.zip\",\"w\")\n",
    "newZip.write(\"spam.txt\",compress_type = zipfile.ZIP_DEFLATED) # 指定特定的算法来压缩文件\n",
    "newZip.close()\n",
    "\n",
    "path = os.getcwd()\n",
    "print(path)\n",
    "target_file = path + '/spam.txt'\n",
    "target_zip_file = path + \"/new2.zip\"\n",
    "\n",
    "uncompress_path = path + \"/uncompress\"\n",
    "# 这是对单个文件进行加密，而并非对文件夹\n",
    "pyminizip.compress(target_file,None,target_zip_file,'1212jas',7)\n",
    "# 解压测试成功\n",
    "pyminizip.uncompress(target_zip_file, \"1212jas\",uncompress_path, int(2))\n",
    "\n",
    "path = os.chdir('/mnt/c/Users/Mr.Revolt/Desktop/target')\n",
    "\n",
    "# 对多个文件进行加密压缩\n",
    "pyminizip.compress_multiple([u'a/a.txt', u'b/b.txt'], [], \"multicompress/file.zip\", \"1233\", 4)"
   ]
  },
  {
   "cell_type": "code",
   "execution_count": null,
   "metadata": {},
   "outputs": [],
   "source": [
    "import pyminizip\n",
    "\n",
    "compression_level = 5 # 1-9\n",
    "pyminizip.compress(\"src.txt\", \"dst.zip\", \"password\", compression_level)"
   ]
  },
  {
   "cell_type": "code",
   "execution_count": 52,
   "metadata": {},
   "outputs": [],
   "source": [
    "import requests\n",
    "html = requests.get('https://so.iqiyi.com/so/q_如果可以这样爱')"
   ]
  },
  {
   "cell_type": "code",
   "execution_count": null,
   "metadata": {},
   "outputs": [],
   "source": []
  }
 ],
 "metadata": {
  "kernelspec": {
   "display_name": "Python 3",
   "language": "python",
   "name": "python3"
  },
  "language_info": {
   "codemirror_mode": {
    "name": "ipython",
    "version": 3
   },
   "file_extension": ".py",
   "mimetype": "text/x-python",
   "name": "python",
   "nbconvert_exporter": "python",
   "pygments_lexer": "ipython3",
   "version": "3.7.1"
  }
 },
 "nbformat": 4,
 "nbformat_minor": 2
}
