{
 "cells": [
  {
   "cell_type": "code",
   "execution_count": null,
   "metadata": {},
   "outputs": [],
   "source": [
    "# 创建一个文件夹\n",
    "\"\"\"\n",
    "- 判断文件夹是否存在\n",
    "    + 如果文件夹存在,需要写入文件\n",
    "    + 如果文件夹不存在,创建文件夹\n",
    "\"\"\""
   ]
  },
  {
   "cell_type": "code",
   "execution_count": 30,
   "metadata": {},
   "outputs": [
    {
     "name": "stdout",
     "output_type": "stream",
     "text": [
      "True\n",
      "the folder is exists\n"
     ]
    }
   ],
   "source": [
    "import os \n",
    "cur_dir = os.getcwd()\n",
    "cur_dir\n",
    "floder = cur_dir+\"/5\"\n",
    "print(os.path.exists(floder))\n",
    "if os.path.exists(floder):\n",
    "    print(\"the folder is exists\")\n",
    "else:\n",
    "    os.mkdir(floder)\n",
    "    print(\"the folder created finished!\")"
   ]
  },
  {
   "cell_type": "code",
   "execution_count": 31,
   "metadata": {},
   "outputs": [],
   "source": [
    "# 拼写一个时间当前时间戳\n",
    "# 用这个时间戳作为文件夹的名字"
   ]
  },
  {
   "cell_type": "code",
   "execution_count": 78,
   "metadata": {},
   "outputs": [
    {
     "name": "stdout",
     "output_type": "stream",
     "text": [
      "<class 'tuple'>\n"
     ]
    },
    {
     "data": {
      "text/plain": [
       "'2019-5-6-99'"
      ]
     },
     "execution_count": 78,
     "metadata": {},
     "output_type": "execute_result"
    }
   ],
   "source": [
    "import time,random\n",
    "local_time = time.localtime()\n",
    "local_time\n",
    "l_year = str(local_time.tm_year)\n",
    "l_month = str(local_time.tm_mon)\n",
    "l_day = str(local_time.tm_mday)\n",
    "year_month_day = (l_year,l_month,l_day)\n",
    "print(type(year_month_day))\n",
    "symbol = \"-\"\n",
    "folder_name = symbol.join(year_month_day)\n",
    "folder_name + \"-\" + str(random.randint(1,100))"
   ]
  },
  {
   "cell_type": "code",
   "execution_count": 83,
   "metadata": {},
   "outputs": [
    {
     "data": {
      "text/plain": [
       "'\\n判断目标文件夹是否存在:\\n    + 存在就写入一个新的文件\\n    + 不存在就创建一个新的文件夹\\n判断是否有重复的任务：\\n    + 如果有重复的任务，只需要复制前天的任务即可。\\n    + 如果有新的任务，需要重新写入文件。\\n    + 如果没有任务，则进行新的学习任务。\\n'"
      ]
     },
     "execution_count": 83,
     "metadata": {},
     "output_type": "execute_result"
    }
   ],
   "source": [
    "# 创建一个文件，进行读写\n",
    "\"\"\"\n",
    "判断目标文件夹是否存在:\n",
    "    + 存在就写入一个新的文件\n",
    "    + 不存在就创建一个新的文件夹\n",
    "判断是否有重复的任务：\n",
    "    + 如果有重复的任务，只需要复制前天的任务即可。\n",
    "    + 如果有新的任务，需要重新写入文件。\n",
    "    + 如果没有任务，则进行新的学习任务。\n",
    "\"\"\""
   ]
  },
  {
   "cell_type": "code",
   "execution_count": 85,
   "metadata": {},
   "outputs": [
    {
     "name": "stdout",
     "output_type": "stream",
     "text": [
      "hi\n"
     ]
    }
   ],
   "source": [
    "import os\n",
    "cur_dir = os.getcwd()\n",
    "cur_folder = cur_dir+\"/5\"\n",
    "cur_dir\n",
    "if os.path.exists(cur_folder):\n",
    "    print(\"hi\")"
   ]
  },
  {
   "cell_type": "code",
   "execution_count": 126,
   "metadata": {},
   "outputs": [
    {
     "data": {
      "text/plain": [
       "\"'hello world!\\\\n你个沙雕.\\\\n我要出去'\""
      ]
     },
     "execution_count": 126,
     "metadata": {},
     "output_type": "execute_result"
    }
   ],
   "source": [
    "# 创建一个新的文件\n",
    "import pprint\n",
    "cur_file = cur_dir+\"/5\"+'/a.txt'\n",
    "file = open(cur_file,\"w+\")\n",
    "file.write(\"hello world!\\n你个沙雕.\\n我要出去\")\n",
    "file.close()\n",
    "file = open(cur_file,\"r+\")\n",
    "file_content = file.read()\n",
    "pprint.pformat(file_content)\n",
    "# file.close()\n",
    "# 判断文件是否存在\n",
    "# print(os.path.isfile(cur_file))"
   ]
  },
  {
   "cell_type": "code",
   "execution_count": null,
   "metadata": {},
   "outputs": [],
   "source": []
  }
 ],
 "metadata": {
  "kernelspec": {
   "display_name": "Python 3",
   "language": "python",
   "name": "python3"
  },
  "language_info": {
   "codemirror_mode": {
    "name": "ipython",
    "version": 3
   },
   "file_extension": ".py",
   "mimetype": "text/x-python",
   "name": "python",
   "nbconvert_exporter": "python",
   "pygments_lexer": "ipython3",
   "version": "3.7.1"
  }
 },
 "nbformat": 4,
 "nbformat_minor": 2
}
