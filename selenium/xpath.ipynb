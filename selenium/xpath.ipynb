{
 "cells": [
  {
   "cell_type": "code",
   "execution_count": 2,
   "metadata": {},
   "outputs": [
    {
     "data": {
      "text/plain": [
       "'\\n<?xml version=\"1.0\" encoding=\"ISO-8859-1\"?>\\n\\n<bookstore>\\n\\n<book>\\n  <title lang=\"eng\">Harry Potter</title>\\n  <price>29.99</price>\\n</book>\\n\\n<book>\\n  <title lang=\"eng\">Learning XML</title>\\n  <price>39.95</price>\\n</book>\\n\\n</bookstore>\\n'"
      ]
     },
     "execution_count": 2,
     "metadata": {},
     "output_type": "execute_result"
    }
   ],
   "source": [
    "\"\"\"\n",
    "<?xml version=\"1.0\" encoding=\"ISO-8859-1\"?>\n",
    "\n",
    "<bookstore>\n",
    "\n",
    "<book>\n",
    "  <title lang=\"eng\">Harry Potter</title>\n",
    "  <price>29.99</price>\n",
    "</book>\n",
    "\n",
    "<book>\n",
    "  <title lang=\"eng\">Learning XML</title>\n",
    "  <price>39.95</price>\n",
    "</book>\n",
    "\n",
    "</bookstore>\n",
    "\"\"\""
   ]
  },
  {
   "cell_type": "markdown",
   "metadata": {},
   "source": [
    "## 选取节点"
   ]
  },
  {
   "cell_type": "markdown",
   "metadata": {},
   "source": [
    "|表达式|描述|\n",
    "|:------|:------|\n",
    "|nodename|选取此节点的所有子节点|\n",
    "| / |从根节点选取|\n",
    "| // | 从匹配选择的当前节点选择文档中的节点，而不考虑它们的位置 |\n",
    "| . | 选取当前节点 |\n",
    "| .. | 选取当前节点的父节点 |\n",
    "| @ | 选取属性 |\n"
   ]
  },
  {
   "cell_type": "markdown",
   "metadata": {},
   "source": [
    "#### Demo演示"
   ]
  },
  {
   "cell_type": "markdown",
   "metadata": {},
   "source": [
    "|路径表达式|结果显示|\n",
    "|:-----:|:-----:|\n",
    "|bookstore|选取 bookstore 元素的所有子节点。|\n",
    "|/bookstore|选取根元素 bookstore。|\n",
    "|bookstore/book|选取属于 bookstore 的子元素的所有 book 元素。|\n",
    "|//book|选取所有 book 子元素，而不管它们在文档中的位置。|\n",
    "|bookstore//book|选择属于 bookstore 元素的后代的所有 book 元素，而不管它们位于 bookstore 之下的什么位置。|\n",
    "|//@lang |选取名为 lang 的所有属性。|"
   ]
  },
  {
   "cell_type": "markdown",
   "metadata": {},
   "source": [
    "## 直接在python中使用xpath模块"
   ]
  },
  {
   "cell_type": "code",
   "execution_count": 5,
   "metadata": {},
   "outputs": [
    {
     "data": {
      "text/plain": [
       "'\\nhttp://v.youku.com/v_show/id_XMjU4NDE1NTQ0.html?s=0c10146648bf11e2b356\\n//v.youku.com/v_show/id_XMTg2NjA0ODQzNg==.html\\n//v.youku.com/v_show/id_XMzQ3NjIzNTcyMA==.html\\n//v.youku.com/v_show/id_XMzYzNjkzMjE4OA==.html\\n//v.youku.com/v_show/id_XMzE3Njg2MzUwNA==.html\\n//v.youku.com/v_show/id_XMzA5ODAxNDU2.html\\n//v.youku.com/v_show/id_XMzQ4MzQ2MTIwOA==.html\\n//v.youku.com/v_show/id_XMzEwNzE1MjY4OA==.html\\n//v.youku.com/v_show/id_XNTEyMDE2NDM2.html\\n//v.youku.com/v_show/id_XNTEyMDgwMzE2.html\\n//v.youku.com/v_show/id_XNDE0MjY2NjQxMg==.html\\n//v.youku.com/v_show/id_XMzU0NzIzNDA0.html\\n//v.youku.com/v_show/id_XMzU4Mjg3NjkwOA==.html\\n//v.youku.com/v_show/id_XNDA4MjY4NzI2MA==.html\\n//v.youku.com/v_show/id_XNDExMDUzODU0NA==.html\\n//v.youku.com/v_show/id_XNDAwNDAzNjMzMg==.html\\n//v.youku.com/v_show/id_XNDA3NDMzMzM0NA==.html\\n//v.youku.com/v_show/id_XNDA4MjAyNjM1Mg==.html\\n//v.youku.com/v_show/id_XMzgyMjg4ODU5Mg==.html\\n\\n\\n//*[@id=\"bpmodule-main\"]/div[2]/*/div[2]/div[1]/h2/a/@href\\n'"
      ]
     },
     "execution_count": 5,
     "metadata": {},
     "output_type": "execute_result"
    }
   ],
   "source": [
    "\"\"\"\n",
    "http://v.youku.com/v_show/id_XMjU4NDE1NTQ0.html?s=0c10146648bf11e2b356\n",
    "//v.youku.com/v_show/id_XMTg2NjA0ODQzNg==.html\n",
    "//v.youku.com/v_show/id_XMzQ3NjIzNTcyMA==.html\n",
    "//v.youku.com/v_show/id_XMzYzNjkzMjE4OA==.html\n",
    "//v.youku.com/v_show/id_XMzE3Njg2MzUwNA==.html\n",
    "//v.youku.com/v_show/id_XMzA5ODAxNDU2.html\n",
    "//v.youku.com/v_show/id_XMzQ4MzQ2MTIwOA==.html\n",
    "//v.youku.com/v_show/id_XMzEwNzE1MjY4OA==.html\n",
    "//v.youku.com/v_show/id_XNTEyMDE2NDM2.html\n",
    "//v.youku.com/v_show/id_XNTEyMDgwMzE2.html\n",
    "//v.youku.com/v_show/id_XNDE0MjY2NjQxMg==.html\n",
    "//v.youku.com/v_show/id_XMzU0NzIzNDA0.html\n",
    "//v.youku.com/v_show/id_XMzU4Mjg3NjkwOA==.html\n",
    "//v.youku.com/v_show/id_XNDA4MjY4NzI2MA==.html\n",
    "//v.youku.com/v_show/id_XNDExMDUzODU0NA==.html\n",
    "//v.youku.com/v_show/id_XNDAwNDAzNjMzMg==.html\n",
    "//v.youku.com/v_show/id_XNDA3NDMzMzM0NA==.html\n",
    "//v.youku.com/v_show/id_XNDA4MjAyNjM1Mg==.html\n",
    "//v.youku.com/v_show/id_XMzgyMjg4ODU5Mg==.html\n",
    "\n",
    "\n",
    "//*[@id=\"bpmodule-main\"]/div[2]/*/div[2]/div[1]/h2/a/@href\n",
    "\"\"\""
   ]
  },
  {
   "cell_type": "code",
   "execution_count": 6,
   "metadata": {},
   "outputs": [
    {
     "ename": "SyntaxError",
     "evalue": "invalid syntax (<ipython-input-6-6fbe18f6d716>, line 1)",
     "output_type": "error",
     "traceback": [
      "\u001b[0;36m  File \u001b[0;32m\"<ipython-input-6-6fbe18f6d716>\"\u001b[0;36m, line \u001b[0;32m1\u001b[0m\n\u001b[0;31m    //v.youku.com/v_show/id_XMjcwMTA0MjA2OA==.html\u001b[0m\n\u001b[0m     ^\u001b[0m\n\u001b[0;31mSyntaxError\u001b[0m\u001b[0;31m:\u001b[0m invalid syntax\n"
     ]
    }
   ],
   "source": [
    "//v.youku.com/v_show/id_XMjcwMTA0MjA2OA==.html\n",
    "//v.youku.com/v_show/id_XMzI2NzkxMDcwOA==.html\n",
    "//v.youku.com/v_show/id_XMzUzNjI1OTc3Mg==.html\n",
    "//v.youku.com/v_show/id_XNDAzOTU1NDkyOA==.html\n",
    "//v.youku.com/v_show/id_XMzE3ODI0MDY1Mg==.html\n",
    "//v.youku.com/v_show/id_XMjcwNzM0OTE0OA==.html\n",
    "//v.youku.com/v_show/id_XMzQ3NzUxNzAwOA==.html\n",
    "//v.youku.com/v_show/id_XMTYxMzcyNDQwOA==.html\n",
    "//v.youku.com/v_show/id_XNjA4Mzk3ODYw.html\n",
    "//v.youku.com/v_show/id_XMzI0OTQ0MjI1Mg==.html\n",
    "//v.youku.com/v_show/id_XNzQxNzYzMzc2.html\n",
    "//v.youku.com/v_show/id_XMzg0MzMxMDMwNA==.html\n",
    "//v.youku.com/v_show/id_XNDA3NjQ1NTQyOA==.html\n",
    "//v.youku.com/v_show/id_XMzk5ODcwMjYxMg==.html\n",
    "//v.youku.com/v_show/id_XMzEwMDczODEzMg==.html\n",
    "//v.youku.com/v_show/id_XMzEwMDc0MDgzNg==.html\n",
    "//v.youku.com/v_show/id_XMzQ3OTk2ODQyOA==.html\n",
    "//v.youku.com/v_show/id_XNjA4Mzk5MTcy.html\n",
    "//v.youku.com/v_show/id_XMzc2MjEzOTIxMg==.html\n",
    "//v.youku.com/v_show/id_XMzI3MTMwODE0NA==.html"
   ]
  },
  {
   "cell_type": "markdown",
   "metadata": {},
   "source": [
    "# 参考链接\n",
    "\n",
    "`http://www.w3school.com.cn/xpath/xpath_syntax.asp`\n",
    "\n",
    "具体使用`lxml`模块来进行操作."
   ]
  }
 ],
 "metadata": {
  "kernelspec": {
   "display_name": "Python 3",
   "language": "python",
   "name": "python3"
  },
  "language_info": {
   "codemirror_mode": {
    "name": "ipython",
    "version": 3
   },
   "file_extension": ".py",
   "mimetype": "text/x-python",
   "name": "python",
   "nbconvert_exporter": "python",
   "pygments_lexer": "ipython3",
   "version": "3.7.1"
  }
 },
 "nbformat": 4,
 "nbformat_minor": 2
}
