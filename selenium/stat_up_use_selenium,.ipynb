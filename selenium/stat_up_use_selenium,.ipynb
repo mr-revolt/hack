{
 "cells": [
  {
   "cell_type": "markdown",
   "metadata": {},
   "source": [
    "## selenium中关于元素的定位"
   ]
  },
  {
   "cell_type": "markdown",
   "metadata": {},
   "source": [
    "- id\n",
    "- name\n",
    "- class_name\n",
    "- link text \n",
    "- partial link text\n",
    "- tag name --- 要是下面的例子,就是标签的名字,input\n",
    "- xpath\n",
    "- css selector"
   ]
  },
  {
   "cell_type": "markdown",
   "metadata": {},
   "source": [
    "针对baidu的输入框,下面有很多元素供我们选择."
   ]
  },
  {
   "cell_type": "code",
   "execution_count": 5,
   "metadata": {},
   "outputs": [
    {
     "data": {
      "text/plain": [
       "'\\n<span class=\"btn_wr s_btn_wr bg\" id=\"s_btn_wr\"><input type=\"submit\" value=\"百度一下\" id=\"su\" class=\"btn self-btn bg s_btn\"></span>\\n'"
      ]
     },
     "execution_count": 5,
     "metadata": {},
     "output_type": "execute_result"
    }
   ],
   "source": [
    "\"\"\"\n",
    "<span class=\"btn_wr s_btn_wr bg\" id=\"s_btn_wr\"><input type=\"submit\" value=\"百度一下\" id=\"su\" class=\"btn self-btn bg s_btn\"></span>\n",
    "\"\"\""
   ]
  },
  {
   "cell_type": "code",
   "execution_count": 8,
   "metadata": {},
   "outputs": [
    {
     "data": {
      "text/plain": [
       "'\\n<input class=\"sotxt default\" type=\"text\" name=\"q\" value=\"\" autocomplete=\"off\" id=\"headq\" x-webkit-speech=\"\" x-webkit-grammar=\"builtin:translate\" _xbox_init=\"t\">\\n'"
      ]
     },
     "execution_count": 8,
     "metadata": {},
     "output_type": "execute_result"
    }
   ],
   "source": [
    "# url: https://www.soku.com/\n",
    "\n",
    "# 方便的搜索链接\n",
    "\"\"\"\n",
    "<input class=\"sotxt\" type=\"text\" name=\"q\" id=\"headq\" accesskey=\"s\" autocomplete=\"off\" value=\"asdad\" maxlength=\"200\" x-webkit-speech=\"\" x-webkit-grammar=\"builtin:translate\" _xbox_init=\"t\">\n",
    "\"\"\"\n",
    "\n",
    "# 最原始的链接\n",
    "\"\"\"\n",
    "<input class=\"sotxt default\" type=\"text\" name=\"q\" value=\"\" autocomplete=\"off\" id=\"headq\" x-webkit-speech=\"\" x-webkit-grammar=\"builtin:translate\" _xbox_init=\"t\">\n",
    "\"\"\"\n",
    "\n",
    "# button\n",
    "\n",
    "\"\"\"\n",
    "<button class=\"btn btn_search\" type=\"submit\">搜索</button>\n",
    "\"\"\""
   ]
  }
 ],
 "metadata": {
  "kernelspec": {
   "display_name": "Python 3",
   "language": "python",
   "name": "python3"
  },
  "language_info": {
   "codemirror_mode": {
    "name": "ipython",
    "version": 3
   },
   "file_extension": ".py",
   "mimetype": "text/x-python",
   "name": "python",
   "nbconvert_exporter": "python",
   "pygments_lexer": "ipython3",
   "version": "3.7.1"
  }
 },
 "nbformat": 4,
 "nbformat_minor": 2
}
